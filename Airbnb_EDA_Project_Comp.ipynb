{
  "nbformat": 4,
  "nbformat_minor": 0,
  "metadata": {
    "colab": {
      "private_outputs": true,
      "provenance": [],
      "collapsed_sections": [
        "w6K7xa23Elo4",
        "yQaldy8SH6Dl",
        "PH-0ReGfmX4f",
        "mDgbUHAGgjLW",
        "MSa1f5Uengrz",
        "8G2x9gOozGDZ",
        "gCX9965dhzqZ",
        "gIfDvo9L0UH2"
      ]
    },
    "kernelspec": {
      "name": "python3",
      "display_name": "Python 3"
    },
    "language_info": {
      "name": "python"
    }
  },
  "cells": [
    {
      "cell_type": "markdown",
      "source": [
        "# **EDA Project: Exploratory Data Analysis on Airbnb Dataset**\n",
        "\n"
      ],
      "metadata": {
        "id": "vncDsAP0Gaoa"
      }
    },
    {
      "cell_type": "markdown",
      "source": [
        "##### **Project Type** - Exploratory Data Analysis (EDA)\n",
        "Exploratory Data Analysis (EDA) is a data analysis process where the primary goal is to understand the main characteristics of a dataset before diving into more advanced modeling or hypothesis testing.\n"
      ],
      "metadata": {
        "id": "beRrZCGUAJYm"
      }
    },
    {
      "cell_type": "markdown",
      "source": [
        "## ***Business Objective:***"
      ],
      "metadata": {
        "id": "PH-0ReGfmX4f"
      }
    },
    {
      "cell_type": "markdown",
      "source": [
        "*Objective: The primary objective of this EDA project is to gain insights into Airbnb booking patterns, user behaviors, and property characteristics. Also, to gain insights into the main features and patterns within the Airbnb NYC 2019.*\n",
        "\n",
        "*Through a systematic examination of the data, we aim to uncover relationships, identify trends, and understand the distribution of variables, providing a foundation for subsequent analysis.*\n",
        "\n",
        "*By thoroughly exploring the booking dataset, we aim to identify trends, patterns, and key factors that influence booking decisions. This analysis provides a foundation for understanding the dynamics of Airbnb reservations and aids in making informed decisions for both hosts and users.*"
      ],
      "metadata": {
        "id": "PhDvGCAqmjP1"
      }
    },
    {
      "cell_type": "markdown",
      "source": [
        "# **Project Summary -**"
      ],
      "metadata": {
        "id": "FJNUwmbgGyua"
      }
    },
    {
      "cell_type": "markdown",
      "source": [
        "1. *Insight into Booking Patterns: Understanding these patterns is vital for hosts to optimize pricing strategies, allocate resources efficiently, and enhance the overall guest experience during high-demand periods.*\n",
        "\n",
        "2. *User Behavior Understanding: Analyzing demographic information and user preferences through EDA helps in grasping the diverse needs and expectations of Airbnb guests. This insight is invaluable for hosts looking to tailor their property listings, amenities, and services to match the preferences of their target audience, ultimately attracting more bookings.*\n",
        "\n",
        "3. *Pricing Strategy Optimization: Examining the distribution of property prices and understanding the factors influencing pricing through EDA is essential for hosts to develop effective pricing strategies. Hosts can adjust their prices based on seasonal variations, local events, and the competitive landscape, ultimately maximizing revenue and occupancy rates.*\n",
        "\n",
        "4. Guest Review Analysis: Enables hosts to delve into user reviews, identifying factors contributing to positive or negative feedback. Understanding the aspects that impact guest satisfaction allows hosts to make informed decisions to enhance the quality of their listings, improve service, and foster positive reviews, thereby attracting more bookings.\n",
        "\n",
        "5. *Strategic Decision-Making: By uncovering patterns and trends, EDA empowers stakeholders with the knowledge needed for strategic decision-making. Whether it's optimizing property listings, adjusting pricing, or enhancing the guest experience, EDA provides the foundation for making informed choices that positively impact the success of Airbnb hosts and the satisfaction of guests.*"
      ],
      "metadata": {
        "id": "F6v_1wHtG2nS"
      }
    },
    {
      "cell_type": "markdown",
      "source": [
        "# **Problem Statement**\n"
      ],
      "metadata": {
        "id": "yQaldy8SH6Dl"
      }
    },
    {
      "cell_type": "markdown",
      "source": [
        "1. *Price Distribution: How is the price distributed across different room types?*\n",
        "\n",
        "2. *Geographical Insights: What are the most common locations for the listed hotels?*\n",
        "\n",
        "3. *Variability in Prices: Which locations exhibit the highest variability in hotel prices?*\n",
        "\n",
        "4. *Review Analysis: How does the number of reviews vary across different hotels?*\n",
        "\n",
        "5. *Comparison of Hotels Based on Location: Are there notable differences in the number of reviews across locations?*\n",
        "\n",
        "6. *Comparison of Hotels Based on Location: Which locations have the highest and lowest average hotel prices?*\n",
        "\n",
        "7. *Popular Hotel Names: What are the most commonly occurring hotel names in the dataset? Do certain hotel names attract more reviews?*"
      ],
      "metadata": {
        "id": "DpeJGUA3kjGy"
      }
    },
    {
      "cell_type": "markdown",
      "source": [
        "# ***Let's Begin !***"
      ],
      "metadata": {
        "id": "O_i_v8NEhb9l"
      }
    },
    {
      "cell_type": "markdown",
      "source": [
        "## ***1. Know Your Data***"
      ],
      "metadata": {
        "id": "7wkRbpkwCG6P"
      }
    },
    {
      "cell_type": "markdown",
      "source": [
        "### Import Libraries"
      ],
      "metadata": {
        "id": "Y3lxredqlCYt"
      }
    },
    {
      "cell_type": "code",
      "source": [
        "from google.colab import drive\n",
        "drive.mount('/content/drive')"
      ],
      "metadata": {
        "id": "DE6gw-6GdyxU"
      },
      "execution_count": null,
      "outputs": []
    },
    {
      "cell_type": "code",
      "source": [
        "# Import Libraries\n",
        "import numpy as np\n",
        "import pandas as pd\n",
        "from numpy import math\n",
        "from numpy import loadtxt\n",
        "import seaborn as sb\n",
        "import matplotlib.pyplot as mp\n",
        "%matplotlib inline\n",
        "from matplotlib import rcParams"
      ],
      "metadata": {
        "id": "M8Vqi-pPk-HR"
      },
      "execution_count": null,
      "outputs": []
    },
    {
      "cell_type": "markdown",
      "source": [
        "### Dataset Loading"
      ],
      "metadata": {
        "id": "3RnN4peoiCZX"
      }
    },
    {
      "cell_type": "code",
      "source": [
        "# Load Dataset\n",
        "df=pd.read_csv(\"/content/drive/MyDrive/Python-Colab/Airbnb NYC 2019.csv\")"
      ],
      "metadata": {
        "id": "4CkvbW_SlZ_R"
      },
      "execution_count": null,
      "outputs": []
    },
    {
      "cell_type": "markdown",
      "source": [
        "### Dataset First View"
      ],
      "metadata": {
        "id": "x71ZqKXriCWQ"
      }
    },
    {
      "cell_type": "code",
      "source": [
        "# Dataset First Look\n",
        "df.head(2)"
      ],
      "metadata": {
        "id": "LWNFOSvLl09H"
      },
      "execution_count": null,
      "outputs": []
    },
    {
      "cell_type": "markdown",
      "source": [
        "### Dataset Rows & Columns count"
      ],
      "metadata": {
        "id": "7hBIi_osiCS2"
      }
    },
    {
      "cell_type": "code",
      "source": [
        "# Dataset Rows & Columns count\n",
        "df.shape"
      ],
      "metadata": {
        "id": "Kllu7SJgmLij"
      },
      "execution_count": null,
      "outputs": []
    },
    {
      "cell_type": "code",
      "source": [
        "df.columns"
      ],
      "metadata": {
        "id": "QG7reT57fNL_"
      },
      "execution_count": null,
      "outputs": []
    },
    {
      "cell_type": "markdown",
      "source": [
        "### Dataset Information"
      ],
      "metadata": {
        "id": "JlHwYmJAmNHm"
      }
    },
    {
      "cell_type": "code",
      "source": [
        "# Dataset Info\n",
        "df.info()"
      ],
      "metadata": {
        "id": "e9hRXRi6meOf"
      },
      "execution_count": null,
      "outputs": []
    },
    {
      "cell_type": "markdown",
      "source": [
        "#### Duplicate Values"
      ],
      "metadata": {
        "id": "35m5QtbWiB9F"
      }
    },
    {
      "cell_type": "code",
      "source": [
        "# Dataset Duplicate Value Count\n",
        "len(df[df.duplicated()])"
      ],
      "metadata": {
        "id": "1sLdpKYkmox0"
      },
      "execution_count": null,
      "outputs": []
    },
    {
      "cell_type": "markdown",
      "source": [
        "#### Missing Values/Null Values"
      ],
      "metadata": {
        "id": "PoPl-ycgm1ru"
      }
    },
    {
      "cell_type": "code",
      "source": [
        "# Missing Values/Null Values Count\n",
        "print(df.isnull().sum())"
      ],
      "metadata": {
        "id": "GgHWkxvamxVg"
      },
      "execution_count": null,
      "outputs": []
    },
    {
      "cell_type": "code",
      "source": [
        "host_name0 = df[df['host_name'].isna()]['host_name']"
      ],
      "metadata": {
        "id": "TY5kWB_6hbat"
      },
      "execution_count": null,
      "outputs": []
    },
    {
      "cell_type": "code",
      "source": [
        "host_name = df[~df['host_name'].isna()]['host_name']\n",
        "host_name"
      ],
      "metadata": {
        "id": "UQCmjEEHjJIq"
      },
      "execution_count": null,
      "outputs": []
    },
    {
      "cell_type": "code",
      "source": [
        "# Visualizing the missing values\n",
        "# Checking Null Value by plotting Heatmap\n",
        "sb.heatmap(df.isnull(), cbar = False)"
      ],
      "metadata": {
        "id": "3q5wnI3om9sJ"
      },
      "execution_count": null,
      "outputs": []
    },
    {
      "cell_type": "code",
      "source": [
        "df.shape"
      ],
      "metadata": {
        "id": "oY0Dyizs6Jki"
      },
      "execution_count": null,
      "outputs": []
    },
    {
      "cell_type": "code",
      "source": [
        "df.dropna(inplace=True)\n",
        "df.shape"
      ],
      "metadata": {
        "id": "ODMumP6o6XCo"
      },
      "execution_count": null,
      "outputs": []
    },
    {
      "cell_type": "code",
      "source": [
        "# removing the data where price is 0\n",
        "ndf = df[df['price']!=0]\n",
        "ndf.shape"
      ],
      "metadata": {
        "id": "yXW8nQLMvr4u"
      },
      "execution_count": null,
      "outputs": []
    },
    {
      "cell_type": "markdown",
      "source": [
        "### What did you know about your dataset?"
      ],
      "metadata": {
        "id": "H0kj-8xxnORC"
      }
    },
    {
      "cell_type": "markdown",
      "source": [
        "The dataset given is a dataset from Hotel booking industry, and we have to analysis the review of customers and the insights behind it.\n",
        "\n",
        "Review prediction is analytical studies on the possibility of a customer abandoning a product or service. The goal is to understand and take steps to change it before the costumer gives up the product or service.\n",
        "\n",
        "The above dataset has 48895 rows and 16 columns. There are no mising values and duplicate values in the dataset."
      ],
      "metadata": {
        "id": "XbOCrbMufgN3"
      }
    },
    {
      "cell_type": "markdown",
      "source": [
        "## ***2. Understanding Your Variables***"
      ],
      "metadata": {
        "id": "nA9Y7ga8ng1Z"
      }
    },
    {
      "cell_type": "code",
      "source": [
        "# Dataset Columns\n",
        "ndf.columns"
      ],
      "metadata": {
        "id": "j7xfkqrt5Ag5"
      },
      "execution_count": null,
      "outputs": []
    },
    {
      "cell_type": "code",
      "source": [
        "# Dataset Describe\n",
        "ndf.describe(include='all')"
      ],
      "metadata": {
        "id": "DnOaZdaE5Q5t"
      },
      "execution_count": null,
      "outputs": []
    },
    {
      "cell_type": "markdown",
      "source": [
        "### Variables Description\n",
        "1. name\n",
        "2. host_name\n",
        "3. neighbourhood_group\n",
        "4. neighbourhood\n",
        "5. lattitude\n",
        "6. longitude\n",
        "7. room_type\n",
        "8. price\n",
        "9. minimum_nights"
      ],
      "metadata": {
        "id": "PBTbrJXOngz2"
      }
    },
    {
      "cell_type": "markdown",
      "source": [
        "### Check Unique Values for each variable."
      ],
      "metadata": {
        "id": "u3PMJOP6ngxN"
      }
    },
    {
      "cell_type": "code",
      "source": [
        "# Check Unique Values for each variable.\n",
        "for i in ndf.columns.tolist():\n",
        "  print(\"No. of unique values in \",i,\"is\",ndf[i].nunique(),\".\")"
      ],
      "metadata": {
        "id": "zms12Yq5n-jE"
      },
      "execution_count": null,
      "outputs": []
    },
    {
      "cell_type": "markdown",
      "source": [
        "## 3. ***Data Wrangling***"
      ],
      "metadata": {
        "id": "dauF4eBmngu3"
      }
    },
    {
      "cell_type": "markdown",
      "source": [
        "### Data Wrangling Code"
      ],
      "metadata": {
        "id": "bKJF3rekwFvQ"
      }
    },
    {
      "cell_type": "code",
      "source": [
        "# copying the original dataset\n",
        "cdf=ndf.copy()\n",
        "cdf.shape"
      ],
      "metadata": {
        "id": "wk-9a2fpoLcV"
      },
      "execution_count": null,
      "outputs": []
    },
    {
      "cell_type": "code",
      "source": [
        "#price distributed across different room types\n",
        "#grouping by roomtype & price\n",
        "price_rt = pd.DataFrame(cdf.groupby('room_type')['price'].mean())\n",
        "price_rt.reset_index(inplace=True)\n",
        "price_rt"
      ],
      "metadata": {
        "id": "92bTRXt85ZXC"
      },
      "execution_count": null,
      "outputs": []
    },
    {
      "cell_type": "code",
      "source": [
        "#Geographical Insights: total cost for the listed locations\n",
        "#grouping by neighbourhood & price\n",
        "nh_price_sum = pd.DataFrame(cdf.groupby('neighbourhood_group')['price'].sum()).sort_values(by='price', ascending=False)\n",
        "nh_price_sum.reset_index(inplace=True)\n",
        "nh_price_sum"
      ],
      "metadata": {
        "id": "y6bOJ51l7jYt"
      },
      "execution_count": null,
      "outputs": []
    },
    {
      "cell_type": "code",
      "source": [
        "#Which locations have the highest and lowest average hotel prices?\n",
        "#grouping by neighbourhood & avg. price\n",
        "nh_price_mean = pd.DataFrame(cdf.groupby('neighbourhood_group')['price'].mean()).sort_values(by='price', ascending=False)\n",
        "nh_price_mean.reset_index(inplace=True)\n",
        "nh_price_mean"
      ],
      "metadata": {
        "id": "hr9Hr9rO8OUS"
      },
      "execution_count": null,
      "outputs": []
    },
    {
      "cell_type": "code",
      "source": [
        "#Review Analysis: How does the number of reviews vary across different locations?\n",
        "#grouping by neighbourhood & avg. no. of reviews\n",
        "nh_reviews = pd.DataFrame(cdf.groupby('neighbourhood_group')['number_of_reviews'].mean()).sort_values(by='number_of_reviews')\n",
        "nh_reviews.reset_index(inplace=True)\n",
        "nh_reviews"
      ],
      "metadata": {
        "id": "m6zafNlB954p"
      },
      "execution_count": null,
      "outputs": []
    },
    {
      "cell_type": "code",
      "source": [
        "#Which locations have the highest hotel prices?\n",
        "#grouping by expensive name of hotel & price\n",
        "Most_Expensive =  pd.DataFrame(cdf.groupby(['name','neighbourhood_group']).agg({'price':'sum'})).sort_values(by='price', ascending=False).head(5)\n",
        "Most_Expensive.reset_index(inplace=True)\n",
        "Most_Expensive"
      ],
      "metadata": {
        "id": "lips30tY_yv_"
      },
      "execution_count": null,
      "outputs": []
    },
    {
      "cell_type": "code",
      "source": [
        "#Top 2 highest hotel prices according to locations\n",
        "#Most expensive hotels neighbourhood group wise\n",
        "Expensive_Loc_All = cdf.sort_values(by='price', ascending=False).groupby('neighbourhood_group').head(2).reset_index(drop=True)\n",
        "Spec_Expensive_Loc = Expensive_Loc_All[['name','neighbourhood_group','price']]\n",
        "Spec_Expensive_Loc"
      ],
      "metadata": {
        "id": "s2x8If3mIKAr"
      },
      "execution_count": null,
      "outputs": []
    },
    {
      "cell_type": "code",
      "source": [
        "#Which locations have the lowest hotel prices?\n",
        "#Least expensive hotels neighbourhood group wise\n",
        "Affortable_Loc_All = cdf.sort_values(by='price').groupby('neighbourhood_group').head(1).reset_index(drop=True)\n",
        "Least_Expensive_Loc = Affortable_Loc_All[['name','neighbourhood_group','price']]\n",
        "Least_Expensive_Loc"
      ],
      "metadata": {
        "id": "xUSc92AbyL_m"
      },
      "execution_count": null,
      "outputs": []
    },
    {
      "cell_type": "code",
      "source": [
        "#mp.figure(figsize=(10,5))\n",
        "# sb.heatmap(nh_reviews['number_of_reviews'])"
      ],
      "metadata": {
        "id": "fhD4PXB3N2j6"
      },
      "execution_count": null,
      "outputs": []
    },
    {
      "cell_type": "code",
      "source": [
        "#Popular Hotel Names: What are the most commonly occurring hotel names in the dataset? Do certain hotel names attract more reviews?\n",
        "#groupby review wise\n",
        "Most_Reviewed = pd.DataFrame(cdf.groupby('name')['number_of_reviews'].sum()).sort_values(by='number_of_reviews', ascending=False).head(10)\n",
        "Most_Reviewed.reset_index(inplace=True)\n",
        "Most_Reviewed.rename(columns={'name':'hotel_name'},inplace=True)\n",
        "Most_Reviewed"
      ],
      "metadata": {
        "id": "1SAFo7laSPH4"
      },
      "execution_count": null,
      "outputs": []
    },
    {
      "cell_type": "markdown",
      "source": [
        "## ***4. Data Vizualization, Storytelling & Experimenting with charts : Understand the relationships between variables***"
      ],
      "metadata": {
        "id": "GF8Ens_Soomf"
      }
    },
    {
      "cell_type": "markdown",
      "source": [
        "#### Chart - 1"
      ],
      "metadata": {
        "id": "0wOQAZs5pc--"
      }
    },
    {
      "cell_type": "code",
      "source": [
        "# Chart - 1\n",
        "#price distributed across different room types\n",
        "mp.pie(price_rt['price'], labels = price_rt['room_type'], autopct='%1.2f%%')"
      ],
      "metadata": {
        "id": "7v_ESjsspbW7"
      },
      "execution_count": null,
      "outputs": []
    },
    {
      "cell_type": "markdown",
      "source": [
        "#### Chart - 2"
      ],
      "metadata": {
        "id": "KSlN3yHqYklG"
      }
    },
    {
      "cell_type": "code",
      "source": [
        "# Chart - 2\n",
        "#Geographical Insights: total cost for the listed locations\n",
        "mp.bar(nh_price_sum['neighbourhood_group'], nh_price_sum['price'], color=np.random.rand(len(nh_price_sum['neighbourhood_group']),4))\n",
        "mp.xlabel('neighbourhood_group')\n",
        "mp.ylabel('total price of hotel')"
      ],
      "metadata": {
        "id": "R4YgtaqtYklH"
      },
      "execution_count": null,
      "outputs": []
    },
    {
      "cell_type": "markdown",
      "source": [
        "#### Chart - 3"
      ],
      "metadata": {
        "id": "EM7whBJCYoAo"
      }
    },
    {
      "cell_type": "code",
      "source": [
        "# Chart - 3\n",
        "#Which locations have the highest and lowest average hotel prices?\n",
        "mp.barh(nh_price_mean['neighbourhood_group'], nh_price_mean['price'])\n",
        "mp.xlabel('neighbourhood_group')\n",
        "mp.ylabel('avg. price')\n",
        "mp.title('Avg price according to neighbourhood_group')\n",
        "\n",
        "for i,v in enumerate(nh_price_mean['price']):\n",
        "  mp.text(v,i, str(round(v,2)), color='purple')\n",
        "mp.show()"
      ],
      "metadata": {
        "id": "t6GMdE67YoAp"
      },
      "execution_count": null,
      "outputs": []
    },
    {
      "cell_type": "markdown",
      "source": [
        "#### Chart - 4"
      ],
      "metadata": {
        "id": "4Of9eVA-YrdM"
      }
    },
    {
      "cell_type": "code",
      "source": [
        "# Chart - 4\n",
        "#Review Analysis: How does the number of reviews vary across different locations?\n",
        "mp.bar(nh_reviews['neighbourhood_group'], nh_reviews['number_of_reviews'], color='green')\n",
        "mp.xlabel('neighbourhood_group')\n",
        "mp.ylabel('number_of_reviews')\n",
        "mp.title('number_of_reviews according to neighbourhood_group')\n",
        "\n",
        "for i,v in enumerate(nh_reviews['number_of_reviews']):\n",
        "  mp.text(i,v, str(round(v,2)), ha='center', va='bottom' ,color='purple')\n",
        "mp.show()"
      ],
      "metadata": {
        "id": "irlUoxc8YrdO"
      },
      "execution_count": null,
      "outputs": []
    },
    {
      "cell_type": "markdown",
      "source": [
        "#### Chart - 5"
      ],
      "metadata": {
        "id": "IeiZ5f052lcQ"
      }
    },
    {
      "cell_type": "code",
      "source": [
        "# Chart -\n",
        "#Which locations have the highest hotel prices? (Top 2 highest hotels )\n",
        "sb.barplot(y=Spec_Expensive_Loc['neighbourhood_group'], x=Spec_Expensive_Loc['price'])"
      ],
      "metadata": {
        "id": "C6WmBVp81FRE"
      },
      "execution_count": null,
      "outputs": []
    },
    {
      "cell_type": "markdown",
      "source": [
        "#### Chart - 6"
      ],
      "metadata": {
        "id": "bamQiAODYuh1"
      }
    },
    {
      "cell_type": "code",
      "source": [
        "# Chart - 6\n",
        "#Which hotels have the highest prices?\n",
        "sb.barplot(y=Most_Expensive['name'], x= Most_Expensive['price'])\n",
        "mp.show"
      ],
      "metadata": {
        "id": "TIJwrbroYuh3"
      },
      "execution_count": null,
      "outputs": []
    },
    {
      "cell_type": "markdown",
      "source": [
        "#### Chart - 7"
      ],
      "metadata": {
        "id": "OH-pJp9IphqM"
      }
    },
    {
      "cell_type": "code",
      "source": [
        "# Chart - 7.1\n",
        "#Which hotels have the lowest prices?\n",
        "sb.barplot(y=Least_Expensive_Loc['name'], x=Least_Expensive_Loc['price'])"
      ],
      "metadata": {
        "id": "kuRf4wtuphqN"
      },
      "execution_count": null,
      "outputs": []
    },
    {
      "cell_type": "markdown",
      "source": [
        "#### Chart - 7"
      ],
      "metadata": {
        "id": "PIIx-8_IphqN"
      }
    },
    {
      "cell_type": "code",
      "source": [
        "# Chart - 7.2\n",
        "#Popular Hotel Names: What are the most commonly occurring hotel names in the dataset? Do certain hotel names attract more reviews?\n",
        "sb.barplot(y = Most_Reviewed['hotel_name'], x = Most_Reviewed['number_of_reviews'])\n",
        "mp.show"
      ],
      "metadata": {
        "id": "TdPTWpAVphqO"
      },
      "execution_count": null,
      "outputs": []
    },
    {
      "cell_type": "markdown",
      "source": [
        "## **5. Solution to Business Objective**"
      ],
      "metadata": {
        "id": "JcMwzZxoAimU"
      }
    },
    {
      "cell_type": "markdown",
      "source": [
        "1. *Price Distribution: We have determined that 'Entire Home/apt' has more bookings than 'Private room' and 'Shared room'\n",
        "['Entire Home/apt': 57.12% , 'Private room': 24.44% , 'Shared room': 18.44%]*\n",
        "\n",
        "2. *Geographical Insights: Manhattan & Brooklyn has much higher cost than Queens, Bronx and Staten Island. Those 2 areas are extremly expensive in terms of hotel prices.*\n",
        "\n",
        "3. *Variability in Prices($): Manhattan has the highest avg price (180.07), followed by Brooklyn (121.53), Queens(95.78), Staten Island(89.96) and Bronx(79.65).*\n",
        "\n",
        "4. *Review Analysis: Staten Island has received the highest average number of reviews, while Manhattan has receieved the lowest, it shows the inverse correlation between nunber of reivews & avg price.*\n",
        "\n",
        "5. *Comparison of Hotels Based on Location & Avg Price:*\n",
        "  *   *Most Expensive:*\n",
        "      1. *Luxury 1 bedroom apt. -stunning Manhattan views,\tBrooklyn*\n",
        "      2. *Furnished room in Astoria apartment, Queens*\n",
        "\n",
        "  *  *Least Expensive:*\n",
        "      1. Spacious 2-bedroom Apt in Heart of Greenpoint, Brooklyn\n",
        "     2. Girls only, cozy room one block from Times Square, Manhattan\n",
        "\n",
        "6. *Comparison of Hotels Based on Location & reviews:*\n",
        "  *   Manhattan\t(27.32)\n",
        "  *   Brooklyn\t(29.57)\n",
        "  *   Bronx\t(32.35)\n",
        "  *   Queens\t(34.31)\n",
        "  *   Staten Island\t(36.75)\n",
        "\n",
        "\n",
        "\n",
        "7. *Popular Hotel Names:*\n",
        "  *   Private Bedroom in Manhattan (666)\n",
        "  *   Room near JFK Queen Bed\t(629)\n",
        "  *   Beautiful Bedroom in Manhattan\t(617)\n",
        "  *   Great Bedroom in Manhattan\t(607)\n",
        "  *   Room Near JFK Twin Beds\t(576)\n"
      ],
      "metadata": {
        "id": "8G2x9gOozGDZ"
      }
    },
    {
      "cell_type": "markdown",
      "source": [
        "# **Conclusion**"
      ],
      "metadata": {
        "id": "gCX9965dhzqZ"
      }
    },
    {
      "cell_type": "markdown",
      "source": [
        "*This EDA project provides a comprehensive understanding of the Airbnb NYC 2019 booking data. offering valuable insights for hosts, users, and stakeholders. The findings serve as a basis for strategic decision-making within the dynamic Airbnb platform. The insights gained serve as a foundation for subsequent phases of analysis, guiding the development of hypotheses and informing potential modeling strategies.*\n",
        "\n",
        "*Property Characteristics: Investigated the diversity of Airbnb properties in terms of type, size, and amenities. Explored the impact of property attributes on booking frequency and user ratings.*\n",
        "\n",
        "*Inspection: Conducted a thorough examination of the dataset to identify and address missing values, outliers, and data quality issues. Checked for consistency in data types and formatting.*\n",
        "\n",
        "*Pricing Analysis: Examined the distribution of property prices. Identified factors influencing pricing, such as location, property type, and seasonal variations.*\n",
        "\n",
        "*User Preferences: Highlighted user demographics and preferences shaping booking choices.*\n",
        "\n",
        "*Property Impact: Explored the influence of property characteristics on booking frequency and user satisfaction.*"
      ],
      "metadata": {
        "id": "Fjb1IsQkh3yE"
      }
    }
  ]
}